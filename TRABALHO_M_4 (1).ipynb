{
  "nbformat": 4,
  "nbformat_minor": 0,
  "metadata": {
    "colab": {
      "provenance": []
    },
    "kernelspec": {
      "name": "python3",
      "display_name": "Python 3"
    },
    "language_info": {
      "name": "python"
    }
  },
  "cells": [
    {
      "cell_type": "markdown",
      "metadata": {
        "id": "view-in-github"
      },
      "source": [
        "<a href=\"https://colab.research.google.com/github/cal3eca/PROJETO-INVIDIDUAL-M-4/blob/main/PROJETO_INVIDIVIDUAL_M%C3%93DULO_4.ipynb\" target=\"_parent\"><img src=\"https://colab.research.google.com/assets/colab-badge.svg\" alt=\"Open In Colab\"/></a>"
      ]
    },
    {
      "cell_type": "code",
      "source": [],
      "metadata": {
        "id": "8Q8IYUI4eLwN"
      },
      "execution_count": null,
      "outputs": []
    },
    {
      "cell_type": "markdown",
      "source": [
        "## PROJETO INVIDIVIDUAL 1 DO MÓDULO 4\n",
        "####PROBLEMA DO PROJETO\n",
        ">\n",
        ">> Uma determinada loja deseja produzir relatórios\n",
        "semanais com ganhos e despesas. O gerente da\n",
        "loja te contratou para gerar um relatório de uma\n",
        "semana para mostrar ao dono da loja como a\n",
        "análise dos dados pode ser útil para eles. Para\n",
        "isso, ele te enviou uma tabela de exemplo das\n",
        "despesas de uma semana\n",
        "\n",
        "\n",
        "#### SOLUÇÃO:\n",
        ">\n",
        ">> Criar uma tabela/relatório contendo as informações necessárias, fazendo as perguntas e obtendo as respostas equivalentes, utilizando a linguagem Python."
      ],
      "metadata": {
        "id": "3ECaxc3_c8WL"
      }
    },
    {
      "cell_type": "markdown",
      "source": [
        "##Nessa seção é criada a tabela\n",
        ">>\n",
        "> Onde se utiliza as bibliotecas (PANDAS/NUMPY), para fazer a tabela, que por sua vez são prenchidas e organizadas por meio de (DICIONÁRIOS)"
      ],
      "metadata": {
        "id": "vYG4PsOhekGr"
      }
    },
    {
      "cell_type": "code",
      "execution_count": null,
      "metadata": {
        "id": "IMhkqgYmRZjv",
        "colab": {
          "base_uri": "https://localhost:8080/",
          "height": 269
        },
        "outputId": "6b233849-e92d-4065-b593-f39024c3fc0a"
      },
      "outputs": [
        {
          "output_type": "execute_result",
          "data": {
            "text/plain": [
              "       Dia  Limpeza  Comida  Transporte  Outros  GANHOS\n",
              "1  Segunda      100  221.60         150       0  2200.0\n",
              "2    Terça        0  375.31         100       0  2420.0\n",
              "3   Quarta      100  412.00         125    2310  3391.0\n",
              "4   Quinta        0  495.20         300     500  5322.0\n",
              "5    Sexta      100  411.53         275       0  4898.5\n",
              "6   Sábado      100  245.00         525       0  4200.0\n",
              "7  Domingo        0  164.00          75     820  3893.0"
            ],
            "text/html": [
              "\n",
              "  <div id=\"df-fe66177c-83a7-4a91-95ec-3d231c8d2187\">\n",
              "    <div class=\"colab-df-container\">\n",
              "      <div>\n",
              "<style scoped>\n",
              "    .dataframe tbody tr th:only-of-type {\n",
              "        vertical-align: middle;\n",
              "    }\n",
              "\n",
              "    .dataframe tbody tr th {\n",
              "        vertical-align: top;\n",
              "    }\n",
              "\n",
              "    .dataframe thead th {\n",
              "        text-align: right;\n",
              "    }\n",
              "</style>\n",
              "<table border=\"1\" class=\"dataframe\">\n",
              "  <thead>\n",
              "    <tr style=\"text-align: right;\">\n",
              "      <th></th>\n",
              "      <th>Dia</th>\n",
              "      <th>Limpeza</th>\n",
              "      <th>Comida</th>\n",
              "      <th>Transporte</th>\n",
              "      <th>Outros</th>\n",
              "      <th>GANHOS</th>\n",
              "    </tr>\n",
              "  </thead>\n",
              "  <tbody>\n",
              "    <tr>\n",
              "      <th>1</th>\n",
              "      <td>Segunda</td>\n",
              "      <td>100</td>\n",
              "      <td>221.60</td>\n",
              "      <td>150</td>\n",
              "      <td>0</td>\n",
              "      <td>2200.0</td>\n",
              "    </tr>\n",
              "    <tr>\n",
              "      <th>2</th>\n",
              "      <td>Terça</td>\n",
              "      <td>0</td>\n",
              "      <td>375.31</td>\n",
              "      <td>100</td>\n",
              "      <td>0</td>\n",
              "      <td>2420.0</td>\n",
              "    </tr>\n",
              "    <tr>\n",
              "      <th>3</th>\n",
              "      <td>Quarta</td>\n",
              "      <td>100</td>\n",
              "      <td>412.00</td>\n",
              "      <td>125</td>\n",
              "      <td>2310</td>\n",
              "      <td>3391.0</td>\n",
              "    </tr>\n",
              "    <tr>\n",
              "      <th>4</th>\n",
              "      <td>Quinta</td>\n",
              "      <td>0</td>\n",
              "      <td>495.20</td>\n",
              "      <td>300</td>\n",
              "      <td>500</td>\n",
              "      <td>5322.0</td>\n",
              "    </tr>\n",
              "    <tr>\n",
              "      <th>5</th>\n",
              "      <td>Sexta</td>\n",
              "      <td>100</td>\n",
              "      <td>411.53</td>\n",
              "      <td>275</td>\n",
              "      <td>0</td>\n",
              "      <td>4898.5</td>\n",
              "    </tr>\n",
              "    <tr>\n",
              "      <th>6</th>\n",
              "      <td>Sábado</td>\n",
              "      <td>100</td>\n",
              "      <td>245.00</td>\n",
              "      <td>525</td>\n",
              "      <td>0</td>\n",
              "      <td>4200.0</td>\n",
              "    </tr>\n",
              "    <tr>\n",
              "      <th>7</th>\n",
              "      <td>Domingo</td>\n",
              "      <td>0</td>\n",
              "      <td>164.00</td>\n",
              "      <td>75</td>\n",
              "      <td>820</td>\n",
              "      <td>3893.0</td>\n",
              "    </tr>\n",
              "  </tbody>\n",
              "</table>\n",
              "</div>\n",
              "      <button class=\"colab-df-convert\" onclick=\"convertToInteractive('df-fe66177c-83a7-4a91-95ec-3d231c8d2187')\"\n",
              "              title=\"Convert this dataframe to an interactive table.\"\n",
              "              style=\"display:none;\">\n",
              "        \n",
              "  <svg xmlns=\"http://www.w3.org/2000/svg\" height=\"24px\"viewBox=\"0 0 24 24\"\n",
              "       width=\"24px\">\n",
              "    <path d=\"M0 0h24v24H0V0z\" fill=\"none\"/>\n",
              "    <path d=\"M18.56 5.44l.94 2.06.94-2.06 2.06-.94-2.06-.94-.94-2.06-.94 2.06-2.06.94zm-11 1L8.5 8.5l.94-2.06 2.06-.94-2.06-.94L8.5 2.5l-.94 2.06-2.06.94zm10 10l.94 2.06.94-2.06 2.06-.94-2.06-.94-.94-2.06-.94 2.06-2.06.94z\"/><path d=\"M17.41 7.96l-1.37-1.37c-.4-.4-.92-.59-1.43-.59-.52 0-1.04.2-1.43.59L10.3 9.45l-7.72 7.72c-.78.78-.78 2.05 0 2.83L4 21.41c.39.39.9.59 1.41.59.51 0 1.02-.2 1.41-.59l7.78-7.78 2.81-2.81c.8-.78.8-2.07 0-2.86zM5.41 20L4 18.59l7.72-7.72 1.47 1.35L5.41 20z\"/>\n",
              "  </svg>\n",
              "      </button>\n",
              "      \n",
              "  <style>\n",
              "    .colab-df-container {\n",
              "      display:flex;\n",
              "      flex-wrap:wrap;\n",
              "      gap: 12px;\n",
              "    }\n",
              "\n",
              "    .colab-df-convert {\n",
              "      background-color: #E8F0FE;\n",
              "      border: none;\n",
              "      border-radius: 50%;\n",
              "      cursor: pointer;\n",
              "      display: none;\n",
              "      fill: #1967D2;\n",
              "      height: 32px;\n",
              "      padding: 0 0 0 0;\n",
              "      width: 32px;\n",
              "    }\n",
              "\n",
              "    .colab-df-convert:hover {\n",
              "      background-color: #E2EBFA;\n",
              "      box-shadow: 0px 1px 2px rgba(60, 64, 67, 0.3), 0px 1px 3px 1px rgba(60, 64, 67, 0.15);\n",
              "      fill: #174EA6;\n",
              "    }\n",
              "\n",
              "    [theme=dark] .colab-df-convert {\n",
              "      background-color: #3B4455;\n",
              "      fill: #D2E3FC;\n",
              "    }\n",
              "\n",
              "    [theme=dark] .colab-df-convert:hover {\n",
              "      background-color: #434B5C;\n",
              "      box-shadow: 0px 1px 3px 1px rgba(0, 0, 0, 0.15);\n",
              "      filter: drop-shadow(0px 1px 2px rgba(0, 0, 0, 0.3));\n",
              "      fill: #FFFFFF;\n",
              "    }\n",
              "  </style>\n",
              "\n",
              "      <script>\n",
              "        const buttonEl =\n",
              "          document.querySelector('#df-fe66177c-83a7-4a91-95ec-3d231c8d2187 button.colab-df-convert');\n",
              "        buttonEl.style.display =\n",
              "          google.colab.kernel.accessAllowed ? 'block' : 'none';\n",
              "\n",
              "        async function convertToInteractive(key) {\n",
              "          const element = document.querySelector('#df-fe66177c-83a7-4a91-95ec-3d231c8d2187');\n",
              "          const dataTable =\n",
              "            await google.colab.kernel.invokeFunction('convertToInteractive',\n",
              "                                                     [key], {});\n",
              "          if (!dataTable) return;\n",
              "\n",
              "          const docLinkHtml = 'Like what you see? Visit the ' +\n",
              "            '<a target=\"_blank\" href=https://colab.research.google.com/notebooks/data_table.ipynb>data table notebook</a>'\n",
              "            + ' to learn more about interactive tables.';\n",
              "          element.innerHTML = '';\n",
              "          dataTable['output_type'] = 'display_data';\n",
              "          await google.colab.output.renderOutput(dataTable, element);\n",
              "          const docLink = document.createElement('div');\n",
              "          docLink.innerHTML = docLinkHtml;\n",
              "          element.appendChild(docLink);\n",
              "        }\n",
              "      </script>\n",
              "    </div>\n",
              "  </div>\n",
              "  "
            ]
          },
          "metadata": {},
          "execution_count": 2
        }
      ],
      "source": [
        "import pandas as pd\n",
        "import numpy as np\n",
        "\n",
        "relatorio = {'Dia': ['Segunda','Terça', 'Quarta', 'Quinta', 'Sexta', 'Sábado', 'Domingo'],\n",
        "             'Limpeza': [100, 0, 100, 0, 100, 100, 0],\n",
        "              'Comida': [221.60, 375.31, 412.00, 495.20, 411.53, 245.00, 164.00],\n",
        "             'Transporte': [150, 100, 125, 300, 275, 525, 75], \n",
        "             'Outros': [0, 0, 2310, 500, 0, 0, 820]}\n",
        "\n",
        "df1 = pd.DataFrame(relatorio, index = [1,2,3,4,5,6,7])\n",
        "df1['GANHOS'] = [2200, 2420, 3391, 5322, 4898.50, 4200, 3893]\n",
        "df1"
      ]
    },
    {
      "cell_type": "markdown",
      "source": [
        "##DAQUI PARA BAIXO COMEÇAM AS PERGUNTAS NECESSÁRIAS PARA REALIZAÇÃO DO PROJETO.\n",
        "\n",
        ">> A soma total dos ganhos;\n",
        "> Sendo a primeira querendo saber a soma de todos os ganhos apenas: \n",
        "> Ou seja, de maneira bruta.\n",
        ">\n",
        "> Resultado: 26324.5"
      ],
      "metadata": {
        "id": "0loqYsyee90i"
      }
    },
    {
      "cell_type": "code",
      "source": [
        "print('A soma total dos ganhos é: ')\n",
        "df1 ['GANHOS'].sum()"
      ],
      "metadata": {
        "id": "vKDiCCjiX5AU",
        "colab": {
          "base_uri": "https://localhost:8080/"
        },
        "outputId": "4fbc6bff-ebbb-4b67-931a-3b2538225fca"
      },
      "execution_count": null,
      "outputs": [
        {
          "output_type": "stream",
          "name": "stdout",
          "text": [
            "A soma total dos ganhos é: \n"
          ]
        },
        {
          "output_type": "execute_result",
          "data": {
            "text/plain": [
              "26324.5"
            ]
          },
          "metadata": {},
          "execution_count": 11
        }
      ]
    },
    {
      "cell_type": "markdown",
      "source": [
        "#### A subtração de impostos dos ganhos diários, que nesta semana foi de 7%;\n",
        ">\n",
        "> Essa pergunta, se dá também para saber o total de ganhos mas dessa vez subtraídos de impostos de 7%.\n",
        ">\n",
        "> Resultado: SEGUNDA(154.000)\n",
        ">\n",
        "> TERÇA(169.4000\n",
        ">\n",
        "> QUARTA(237.370)\n",
        ">\n",
        "> QUINTA(372.540)\n",
        ">\n",
        "> SEXTA(342.895)\n",
        ">\n",
        "> SÁBADO(294.000)\n",
        ">\n",
        "> DOMINGO(272.510)"
      ],
      "metadata": {
        "id": "V6yVdNWZfPtC"
      }
    },
    {
      "cell_type": "code",
      "source": [
        "df1['Ganhos/impostos'] = df1['GANHOS'] * 0.07 \n",
        "df1"
      ],
      "metadata": {
        "id": "JXRcwAxWcfNH",
        "colab": {
          "base_uri": "https://localhost:8080/",
          "height": 269
        },
        "outputId": "72dda7a2-a985-496a-a2df-72ffb45feb64"
      },
      "execution_count": null,
      "outputs": [
        {
          "output_type": "execute_result",
          "data": {
            "text/plain": [
              "       Dia  Limpeza  Comida  Transporte  Outros  GANHOS  LUCRO DIÁRIO  \\\n",
              "1  Segunda      100  221.60         150       0  2200.0       1728.40   \n",
              "2    Terça        0  375.31         100       0  2420.0       1944.69   \n",
              "3   Quarta      100  412.00         125    2310  3391.0        444.00   \n",
              "4   Quinta        0  495.20         300     500  5322.0       4026.80   \n",
              "5    Sexta      100  411.53         275       0  4898.5       4111.97   \n",
              "6   Sábado      100  245.00         525       0  4200.0       3330.00   \n",
              "7  Domingo        0  164.00          75     820  3893.0       2834.00   \n",
              "\n",
              "   Ganhos/impostos  \n",
              "1          154.000  \n",
              "2          169.400  \n",
              "3          237.370  \n",
              "4          372.540  \n",
              "5          342.895  \n",
              "6          294.000  \n",
              "7          272.510  "
            ],
            "text/html": [
              "\n",
              "  <div id=\"df-f62d4788-02ed-4a5c-a8f0-235cd7e4729e\">\n",
              "    <div class=\"colab-df-container\">\n",
              "      <div>\n",
              "<style scoped>\n",
              "    .dataframe tbody tr th:only-of-type {\n",
              "        vertical-align: middle;\n",
              "    }\n",
              "\n",
              "    .dataframe tbody tr th {\n",
              "        vertical-align: top;\n",
              "    }\n",
              "\n",
              "    .dataframe thead th {\n",
              "        text-align: right;\n",
              "    }\n",
              "</style>\n",
              "<table border=\"1\" class=\"dataframe\">\n",
              "  <thead>\n",
              "    <tr style=\"text-align: right;\">\n",
              "      <th></th>\n",
              "      <th>Dia</th>\n",
              "      <th>Limpeza</th>\n",
              "      <th>Comida</th>\n",
              "      <th>Transporte</th>\n",
              "      <th>Outros</th>\n",
              "      <th>GANHOS</th>\n",
              "      <th>LUCRO DIÁRIO</th>\n",
              "      <th>Ganhos/impostos</th>\n",
              "    </tr>\n",
              "  </thead>\n",
              "  <tbody>\n",
              "    <tr>\n",
              "      <th>1</th>\n",
              "      <td>Segunda</td>\n",
              "      <td>100</td>\n",
              "      <td>221.60</td>\n",
              "      <td>150</td>\n",
              "      <td>0</td>\n",
              "      <td>2200.0</td>\n",
              "      <td>1728.40</td>\n",
              "      <td>154.000</td>\n",
              "    </tr>\n",
              "    <tr>\n",
              "      <th>2</th>\n",
              "      <td>Terça</td>\n",
              "      <td>0</td>\n",
              "      <td>375.31</td>\n",
              "      <td>100</td>\n",
              "      <td>0</td>\n",
              "      <td>2420.0</td>\n",
              "      <td>1944.69</td>\n",
              "      <td>169.400</td>\n",
              "    </tr>\n",
              "    <tr>\n",
              "      <th>3</th>\n",
              "      <td>Quarta</td>\n",
              "      <td>100</td>\n",
              "      <td>412.00</td>\n",
              "      <td>125</td>\n",
              "      <td>2310</td>\n",
              "      <td>3391.0</td>\n",
              "      <td>444.00</td>\n",
              "      <td>237.370</td>\n",
              "    </tr>\n",
              "    <tr>\n",
              "      <th>4</th>\n",
              "      <td>Quinta</td>\n",
              "      <td>0</td>\n",
              "      <td>495.20</td>\n",
              "      <td>300</td>\n",
              "      <td>500</td>\n",
              "      <td>5322.0</td>\n",
              "      <td>4026.80</td>\n",
              "      <td>372.540</td>\n",
              "    </tr>\n",
              "    <tr>\n",
              "      <th>5</th>\n",
              "      <td>Sexta</td>\n",
              "      <td>100</td>\n",
              "      <td>411.53</td>\n",
              "      <td>275</td>\n",
              "      <td>0</td>\n",
              "      <td>4898.5</td>\n",
              "      <td>4111.97</td>\n",
              "      <td>342.895</td>\n",
              "    </tr>\n",
              "    <tr>\n",
              "      <th>6</th>\n",
              "      <td>Sábado</td>\n",
              "      <td>100</td>\n",
              "      <td>245.00</td>\n",
              "      <td>525</td>\n",
              "      <td>0</td>\n",
              "      <td>4200.0</td>\n",
              "      <td>3330.00</td>\n",
              "      <td>294.000</td>\n",
              "    </tr>\n",
              "    <tr>\n",
              "      <th>7</th>\n",
              "      <td>Domingo</td>\n",
              "      <td>0</td>\n",
              "      <td>164.00</td>\n",
              "      <td>75</td>\n",
              "      <td>820</td>\n",
              "      <td>3893.0</td>\n",
              "      <td>2834.00</td>\n",
              "      <td>272.510</td>\n",
              "    </tr>\n",
              "  </tbody>\n",
              "</table>\n",
              "</div>\n",
              "      <button class=\"colab-df-convert\" onclick=\"convertToInteractive('df-f62d4788-02ed-4a5c-a8f0-235cd7e4729e')\"\n",
              "              title=\"Convert this dataframe to an interactive table.\"\n",
              "              style=\"display:none;\">\n",
              "        \n",
              "  <svg xmlns=\"http://www.w3.org/2000/svg\" height=\"24px\"viewBox=\"0 0 24 24\"\n",
              "       width=\"24px\">\n",
              "    <path d=\"M0 0h24v24H0V0z\" fill=\"none\"/>\n",
              "    <path d=\"M18.56 5.44l.94 2.06.94-2.06 2.06-.94-2.06-.94-.94-2.06-.94 2.06-2.06.94zm-11 1L8.5 8.5l.94-2.06 2.06-.94-2.06-.94L8.5 2.5l-.94 2.06-2.06.94zm10 10l.94 2.06.94-2.06 2.06-.94-2.06-.94-.94-2.06-.94 2.06-2.06.94z\"/><path d=\"M17.41 7.96l-1.37-1.37c-.4-.4-.92-.59-1.43-.59-.52 0-1.04.2-1.43.59L10.3 9.45l-7.72 7.72c-.78.78-.78 2.05 0 2.83L4 21.41c.39.39.9.59 1.41.59.51 0 1.02-.2 1.41-.59l7.78-7.78 2.81-2.81c.8-.78.8-2.07 0-2.86zM5.41 20L4 18.59l7.72-7.72 1.47 1.35L5.41 20z\"/>\n",
              "  </svg>\n",
              "      </button>\n",
              "      \n",
              "  <style>\n",
              "    .colab-df-container {\n",
              "      display:flex;\n",
              "      flex-wrap:wrap;\n",
              "      gap: 12px;\n",
              "    }\n",
              "\n",
              "    .colab-df-convert {\n",
              "      background-color: #E8F0FE;\n",
              "      border: none;\n",
              "      border-radius: 50%;\n",
              "      cursor: pointer;\n",
              "      display: none;\n",
              "      fill: #1967D2;\n",
              "      height: 32px;\n",
              "      padding: 0 0 0 0;\n",
              "      width: 32px;\n",
              "    }\n",
              "\n",
              "    .colab-df-convert:hover {\n",
              "      background-color: #E2EBFA;\n",
              "      box-shadow: 0px 1px 2px rgba(60, 64, 67, 0.3), 0px 1px 3px 1px rgba(60, 64, 67, 0.15);\n",
              "      fill: #174EA6;\n",
              "    }\n",
              "\n",
              "    [theme=dark] .colab-df-convert {\n",
              "      background-color: #3B4455;\n",
              "      fill: #D2E3FC;\n",
              "    }\n",
              "\n",
              "    [theme=dark] .colab-df-convert:hover {\n",
              "      background-color: #434B5C;\n",
              "      box-shadow: 0px 1px 3px 1px rgba(0, 0, 0, 0.15);\n",
              "      filter: drop-shadow(0px 1px 2px rgba(0, 0, 0, 0.3));\n",
              "      fill: #FFFFFF;\n",
              "    }\n",
              "  </style>\n",
              "\n",
              "      <script>\n",
              "        const buttonEl =\n",
              "          document.querySelector('#df-f62d4788-02ed-4a5c-a8f0-235cd7e4729e button.colab-df-convert');\n",
              "        buttonEl.style.display =\n",
              "          google.colab.kernel.accessAllowed ? 'block' : 'none';\n",
              "\n",
              "        async function convertToInteractive(key) {\n",
              "          const element = document.querySelector('#df-f62d4788-02ed-4a5c-a8f0-235cd7e4729e');\n",
              "          const dataTable =\n",
              "            await google.colab.kernel.invokeFunction('convertToInteractive',\n",
              "                                                     [key], {});\n",
              "          if (!dataTable) return;\n",
              "\n",
              "          const docLinkHtml = 'Like what you see? Visit the ' +\n",
              "            '<a target=\"_blank\" href=https://colab.research.google.com/notebooks/data_table.ipynb>data table notebook</a>'\n",
              "            + ' to learn more about interactive tables.';\n",
              "          element.innerHTML = '';\n",
              "          dataTable['output_type'] = 'display_data';\n",
              "          await google.colab.output.renderOutput(dataTable, element);\n",
              "          const docLink = document.createElement('div');\n",
              "          docLink.innerHTML = docLinkHtml;\n",
              "          element.appendChild(docLink);\n",
              "        }\n",
              "      </script>\n",
              "    </div>\n",
              "  </div>\n",
              "  "
            ]
          },
          "metadata": {},
          "execution_count": 12
        }
      ]
    },
    {
      "cell_type": "markdown",
      "source": [
        "#### A média semanal dos ganhos;\n",
        ">\n",
        "> Aqui a pergunta é em relação a Média dos ganhos: \n",
        ">\n",
        "> RESULTADO: 3760.64"
      ],
      "metadata": {
        "id": "LKUkwf33fkLp"
      }
    },
    {
      "cell_type": "code",
      "source": [
        "print('A média semanal é: \\n', round(df1['GANHOS'].mean(),2))"
      ],
      "metadata": {
        "id": "30FnX-nScvfW",
        "colab": {
          "base_uri": "https://localhost:8080/"
        },
        "outputId": "6ceb2a4d-24f7-48f2-89a8-5e979166e099"
      },
      "execution_count": null,
      "outputs": [
        {
          "output_type": "stream",
          "name": "stdout",
          "text": [
            "A média semanal é: \n",
            " 3760.64\n"
          ]
        }
      ]
    },
    {
      "cell_type": "markdown",
      "source": [
        ">>\n",
        "> "
      ],
      "metadata": {
        "id": "aoyHW0H8fvXh"
      }
    },
    {
      "cell_type": "markdown",
      "source": [
        "#### A soma total das despesas por categoria;\n",
        ">\n",
        ">Essa pergunta seria referente as somas das despesas separadamente, ou seja.\n",
        ">\n",
        ">Item por item (Limpeza, Comida, Transporte, Outros)"
      ],
      "metadata": {
        "id": "wxDeGpY_gski"
      }
    },
    {
      "cell_type": "code",
      "source": [
        "print('A soma total das despesas de limpeza é: ', df1['Limpeza'].sum()) \n",
        "print('A soma total das despesas de Comida é: ',df1['Comida'].sum())\n",
        "print('A soma total das despesas de Transporte é: ',df1['Transporte'].sum())\n",
        "print('A soma total das despesas de Outros é: ', df1['Outros'].sum())"
      ],
      "metadata": {
        "id": "WK7HQeOwdyaV",
        "colab": {
          "base_uri": "https://localhost:8080/"
        },
        "outputId": "529fa7e5-6383-4895-806e-1328bfaa835b"
      },
      "execution_count": null,
      "outputs": [
        {
          "output_type": "stream",
          "name": "stdout",
          "text": [
            "A soma total das despesas de limpeza é:  400\n",
            "A soma total das despesas de Comida é:  2324.64\n",
            "A soma total das despesas de Transporte é:  1550\n",
            "A soma total das despesas de Outros é:  3630\n"
          ]
        }
      ]
    },
    {
      "cell_type": "markdown",
      "source": [
        "#### A média semanal de todas as despesas;\n",
        ">\n",
        "> Essa pergunta seria referente a Média das despesas separadamente:"
      ],
      "metadata": {
        "id": "A5MJgFWQhDnq"
      }
    },
    {
      "cell_type": "code",
      "source": [
        "print('A Média das despesas de limpeza é: ', round(df1['Limpeza'].mean(), 2))\n",
        "print('A Média das despesas de Comida é: ', round(df1['Comida'].mean(), 2))\n",
        "print('A Média das despesas de Transporte é: ', round(df1['Transporte'].mean(), 2))\n",
        "print('A Média das despesas de Outros é: ', round(df1['Outros'].mean(), 2))"
      ],
      "metadata": {
        "id": "Son-hwN3ehex",
        "colab": {
          "base_uri": "https://localhost:8080/"
        },
        "outputId": "4ff39830-58c5-4474-b54b-f4fa9fea13ad"
      },
      "execution_count": null,
      "outputs": [
        {
          "output_type": "stream",
          "name": "stdout",
          "text": [
            "A Média das despesas de limpeza é:  57.14\n",
            "A Média das despesas de Comida é:  332.09\n",
            "A Média das despesas de Transporte é:  221.43\n",
            "A Média das despesas de Outros é:  518.57\n"
          ]
        }
      ]
    },
    {
      "cell_type": "markdown",
      "source": [
        "#### O lucro diário para informar qual dia foi mais lucrativo e o lucro total da semana;"
      ],
      "metadata": {
        "id": "YRfMJekcib_z"
      }
    },
    {
      "cell_type": "code",
      "source": [
        "df1 ['LUCRO DIÁRIO'] = df1 ['GANHOS'] - (df1 ['Limpeza'] + df1 ['Outros'] + df1 ['Comida'] + df1 ['Transporte'])\n",
        "df1"
      ],
      "metadata": {
        "id": "oS9jRttCgU8A",
        "colab": {
          "base_uri": "https://localhost:8080/",
          "height": 269
        },
        "outputId": "41bbaf35-cdc0-4b88-bc47-7a1c322e9059"
      },
      "execution_count": null,
      "outputs": [
        {
          "output_type": "execute_result",
          "data": {
            "text/plain": [
              "       Dia  Limpeza  Comida  Transporte  Outros  GANHOS  LUCRO DIÁRIO  \\\n",
              "1  Segunda      100  221.60         150       0  2200.0       1728.40   \n",
              "2    Terça        0  375.31         100       0  2420.0       1944.69   \n",
              "3   Quarta      100  412.00         125    2310  3391.0        444.00   \n",
              "4   Quinta        0  495.20         300     500  5322.0       4026.80   \n",
              "5    Sexta      100  411.53         275       0  4898.5       4111.97   \n",
              "6   Sábado      100  245.00         525       0  4200.0       3330.00   \n",
              "7  Domingo        0  164.00          75     820  3893.0       2834.00   \n",
              "\n",
              "   Ganhos/impostos  \n",
              "1          154.000  \n",
              "2          169.400  \n",
              "3          237.370  \n",
              "4          372.540  \n",
              "5          342.895  \n",
              "6          294.000  \n",
              "7          272.510  "
            ],
            "text/html": [
              "\n",
              "  <div id=\"df-9d624749-973d-42fa-b556-5bc3dee32b36\">\n",
              "    <div class=\"colab-df-container\">\n",
              "      <div>\n",
              "<style scoped>\n",
              "    .dataframe tbody tr th:only-of-type {\n",
              "        vertical-align: middle;\n",
              "    }\n",
              "\n",
              "    .dataframe tbody tr th {\n",
              "        vertical-align: top;\n",
              "    }\n",
              "\n",
              "    .dataframe thead th {\n",
              "        text-align: right;\n",
              "    }\n",
              "</style>\n",
              "<table border=\"1\" class=\"dataframe\">\n",
              "  <thead>\n",
              "    <tr style=\"text-align: right;\">\n",
              "      <th></th>\n",
              "      <th>Dia</th>\n",
              "      <th>Limpeza</th>\n",
              "      <th>Comida</th>\n",
              "      <th>Transporte</th>\n",
              "      <th>Outros</th>\n",
              "      <th>GANHOS</th>\n",
              "      <th>LUCRO DIÁRIO</th>\n",
              "      <th>Ganhos/impostos</th>\n",
              "    </tr>\n",
              "  </thead>\n",
              "  <tbody>\n",
              "    <tr>\n",
              "      <th>1</th>\n",
              "      <td>Segunda</td>\n",
              "      <td>100</td>\n",
              "      <td>221.60</td>\n",
              "      <td>150</td>\n",
              "      <td>0</td>\n",
              "      <td>2200.0</td>\n",
              "      <td>1728.40</td>\n",
              "      <td>154.000</td>\n",
              "    </tr>\n",
              "    <tr>\n",
              "      <th>2</th>\n",
              "      <td>Terça</td>\n",
              "      <td>0</td>\n",
              "      <td>375.31</td>\n",
              "      <td>100</td>\n",
              "      <td>0</td>\n",
              "      <td>2420.0</td>\n",
              "      <td>1944.69</td>\n",
              "      <td>169.400</td>\n",
              "    </tr>\n",
              "    <tr>\n",
              "      <th>3</th>\n",
              "      <td>Quarta</td>\n",
              "      <td>100</td>\n",
              "      <td>412.00</td>\n",
              "      <td>125</td>\n",
              "      <td>2310</td>\n",
              "      <td>3391.0</td>\n",
              "      <td>444.00</td>\n",
              "      <td>237.370</td>\n",
              "    </tr>\n",
              "    <tr>\n",
              "      <th>4</th>\n",
              "      <td>Quinta</td>\n",
              "      <td>0</td>\n",
              "      <td>495.20</td>\n",
              "      <td>300</td>\n",
              "      <td>500</td>\n",
              "      <td>5322.0</td>\n",
              "      <td>4026.80</td>\n",
              "      <td>372.540</td>\n",
              "    </tr>\n",
              "    <tr>\n",
              "      <th>5</th>\n",
              "      <td>Sexta</td>\n",
              "      <td>100</td>\n",
              "      <td>411.53</td>\n",
              "      <td>275</td>\n",
              "      <td>0</td>\n",
              "      <td>4898.5</td>\n",
              "      <td>4111.97</td>\n",
              "      <td>342.895</td>\n",
              "    </tr>\n",
              "    <tr>\n",
              "      <th>6</th>\n",
              "      <td>Sábado</td>\n",
              "      <td>100</td>\n",
              "      <td>245.00</td>\n",
              "      <td>525</td>\n",
              "      <td>0</td>\n",
              "      <td>4200.0</td>\n",
              "      <td>3330.00</td>\n",
              "      <td>294.000</td>\n",
              "    </tr>\n",
              "    <tr>\n",
              "      <th>7</th>\n",
              "      <td>Domingo</td>\n",
              "      <td>0</td>\n",
              "      <td>164.00</td>\n",
              "      <td>75</td>\n",
              "      <td>820</td>\n",
              "      <td>3893.0</td>\n",
              "      <td>2834.00</td>\n",
              "      <td>272.510</td>\n",
              "    </tr>\n",
              "  </tbody>\n",
              "</table>\n",
              "</div>\n",
              "      <button class=\"colab-df-convert\" onclick=\"convertToInteractive('df-9d624749-973d-42fa-b556-5bc3dee32b36')\"\n",
              "              title=\"Convert this dataframe to an interactive table.\"\n",
              "              style=\"display:none;\">\n",
              "        \n",
              "  <svg xmlns=\"http://www.w3.org/2000/svg\" height=\"24px\"viewBox=\"0 0 24 24\"\n",
              "       width=\"24px\">\n",
              "    <path d=\"M0 0h24v24H0V0z\" fill=\"none\"/>\n",
              "    <path d=\"M18.56 5.44l.94 2.06.94-2.06 2.06-.94-2.06-.94-.94-2.06-.94 2.06-2.06.94zm-11 1L8.5 8.5l.94-2.06 2.06-.94-2.06-.94L8.5 2.5l-.94 2.06-2.06.94zm10 10l.94 2.06.94-2.06 2.06-.94-2.06-.94-.94-2.06-.94 2.06-2.06.94z\"/><path d=\"M17.41 7.96l-1.37-1.37c-.4-.4-.92-.59-1.43-.59-.52 0-1.04.2-1.43.59L10.3 9.45l-7.72 7.72c-.78.78-.78 2.05 0 2.83L4 21.41c.39.39.9.59 1.41.59.51 0 1.02-.2 1.41-.59l7.78-7.78 2.81-2.81c.8-.78.8-2.07 0-2.86zM5.41 20L4 18.59l7.72-7.72 1.47 1.35L5.41 20z\"/>\n",
              "  </svg>\n",
              "      </button>\n",
              "      \n",
              "  <style>\n",
              "    .colab-df-container {\n",
              "      display:flex;\n",
              "      flex-wrap:wrap;\n",
              "      gap: 12px;\n",
              "    }\n",
              "\n",
              "    .colab-df-convert {\n",
              "      background-color: #E8F0FE;\n",
              "      border: none;\n",
              "      border-radius: 50%;\n",
              "      cursor: pointer;\n",
              "      display: none;\n",
              "      fill: #1967D2;\n",
              "      height: 32px;\n",
              "      padding: 0 0 0 0;\n",
              "      width: 32px;\n",
              "    }\n",
              "\n",
              "    .colab-df-convert:hover {\n",
              "      background-color: #E2EBFA;\n",
              "      box-shadow: 0px 1px 2px rgba(60, 64, 67, 0.3), 0px 1px 3px 1px rgba(60, 64, 67, 0.15);\n",
              "      fill: #174EA6;\n",
              "    }\n",
              "\n",
              "    [theme=dark] .colab-df-convert {\n",
              "      background-color: #3B4455;\n",
              "      fill: #D2E3FC;\n",
              "    }\n",
              "\n",
              "    [theme=dark] .colab-df-convert:hover {\n",
              "      background-color: #434B5C;\n",
              "      box-shadow: 0px 1px 3px 1px rgba(0, 0, 0, 0.15);\n",
              "      filter: drop-shadow(0px 1px 2px rgba(0, 0, 0, 0.3));\n",
              "      fill: #FFFFFF;\n",
              "    }\n",
              "  </style>\n",
              "\n",
              "      <script>\n",
              "        const buttonEl =\n",
              "          document.querySelector('#df-9d624749-973d-42fa-b556-5bc3dee32b36 button.colab-df-convert');\n",
              "        buttonEl.style.display =\n",
              "          google.colab.kernel.accessAllowed ? 'block' : 'none';\n",
              "\n",
              "        async function convertToInteractive(key) {\n",
              "          const element = document.querySelector('#df-9d624749-973d-42fa-b556-5bc3dee32b36');\n",
              "          const dataTable =\n",
              "            await google.colab.kernel.invokeFunction('convertToInteractive',\n",
              "                                                     [key], {});\n",
              "          if (!dataTable) return;\n",
              "\n",
              "          const docLinkHtml = 'Like what you see? Visit the ' +\n",
              "            '<a target=\"_blank\" href=https://colab.research.google.com/notebooks/data_table.ipynb>data table notebook</a>'\n",
              "            + ' to learn more about interactive tables.';\n",
              "          element.innerHTML = '';\n",
              "          dataTable['output_type'] = 'display_data';\n",
              "          await google.colab.output.renderOutput(dataTable, element);\n",
              "          const docLink = document.createElement('div');\n",
              "          docLink.innerHTML = docLinkHtml;\n",
              "          element.appendChild(docLink);\n",
              "        }\n",
              "      </script>\n",
              "    </div>\n",
              "  </div>\n",
              "  "
            ]
          },
          "metadata": {},
          "execution_count": 16
        }
      ]
    },
    {
      "cell_type": "code",
      "source": [],
      "metadata": {
        "id": "foVfkNvSjHiZ"
      },
      "execution_count": null,
      "outputs": []
    }
  ]
}